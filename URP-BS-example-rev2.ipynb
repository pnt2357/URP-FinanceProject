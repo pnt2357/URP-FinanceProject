{
 "cells": [
  {
   "cell_type": "markdown",
   "metadata": {},
   "source": [
    "# Black-Scholes option pricing theory\n",
    "\n",
    "## Hedging and the partial differential equation\n",
    "\n",
    "The original derivation of the Black-Scholes partial differential equation was via stochastic calculus, Ito's lemma and a simple hedging argument (Black & Scholes, 1973).\n",
    "\n",
    "Assume that the underlying follows a lognormal random walk\n",
    "$$\n",
    "\tdS = \\mu S dt + \\sigma S dX.\n",
    "$$\n",
    "Use $\\Pi$ to denote the value of a portfolio of one long option position and a short position in some quantity $\\Delta$ of the underlying:\n",
    "$$ \n",
    "\t\\Pi = V(S,t) - \\Delta S.\n",
    "$$\n",
    "\n",
    "The first term on the right is the option and the second term is the short asset position.\n",
    "\n",
    "Ask how the value of the portfolio changes from time $t$ to $t+dt$. The change in the portfolio value is due partly to the change in the option value and partly to the change in the underlying:\n",
    "$$\n",
    "\td\\Pi = dV - \\Delta dS.\n",
    "$$\n",
    "\n",
    "From Ito's lemma we have\n",
    "$$\n",
    "\td\\Pi = \\frac{\\partial V}{\\partial t}dt + \\frac{\\partial V}{\\partial S}dS +\n",
    "\t\\frac{1}{2} \\sigma^2 S^2 \\frac{\\partial^2 V}{\\partial S^2}dt - \\Delta dS.\n",
    "$$\n",
    "\n",
    "The right-hand side of this contains two types of terms, the deterministic and the random. The deterministic terms are those with the $dt$, and the random terms are those with the $dS$. Pretending for the moment that we know $V$ and its derivatives then we know everything about the right-hand side $\\textit{except for the value of}$ $dS$, because this is random.\n",
    "\n",
    "These random terms can be eliminated by choosing\n",
    "$$\n",
    "    \\Delta = \\frac{\\partial V}{\\partial S}.\n",
    "$$\n",
    "\n",
    "After choosing the quantity $\\Delta$, we hold a portfolio whose value changes by the amount\n",
    "$$\n",
    "\td\\Pi = \\Big( \\frac{\\partial V}{\\partial t} + \\frac{1}{2} \\sigma^2 S^2 \\frac{\\partial^2 V}{\\partial S^2}dt \\Big)dt.\n",
    "$$\n",
    "\n",
    "This change is completely $\\textit{riskless}$. If we have a completely risk-free change $d\\Pi$ in the portfolio value $\\Pi$ then it must be the same as the growth we would get if we put the equivalent amount of cash in a risk-free interest-bearing account:\n",
    "$$\n",
    "    d\\Pi = r\\Pi dt.\n",
    "$$\n",
    "\n",
    "This is an example of the no arbitrage principle.\n",
    "\n",
    "Putting all of the above together to eliminate $\\Pi$ and $\\Delta$ in favor of partial derivatives of $V$ gives\n",
    "$$\n",
    "    \\frac{\\partial V}{\\partial t} + \\frac{1}{2} \\sigma^2 S^2 \\frac{\\partial^2 V}{\\partial S^2} + rS \\frac{\\partial V}{\\partial S} - rV = 0,\n",
    "$$\n",
    "\n",
    "the $\\textbf{Black-Scholes equation}$.\n",
    "\n",
    "Solve this quite simple linear diffusion equation with the final condition\n",
    "$$\n",
    "\tV(S,T)=\\max(S-K,0)\n",
    "$$\n",
    "\n",
    "and you will get the Black-Scholes call option formula."
   ]
  },
  {
   "cell_type": "code",
   "execution_count": null,
   "metadata": {
    "collapsed": true
   },
   "outputs": [],
   "source": []
  },
  {
   "cell_type": "code",
   "execution_count": 1,
   "metadata": {
    "collapsed": false
   },
   "outputs": [
    {
     "name": "stdout",
     "output_type": "stream",
     "text": [
      "8.916035060662303\n"
     ]
    }
   ],
   "source": [
    "from math import *\n",
    "# Cumulative normal distribution\n",
    "\n",
    "def CND(X):\n",
    "\n",
    "    (a1,a2,a3,a4,a5) = (0.31938153, -0.356563782, 1.781477937, \n",
    "\n",
    "     -1.821255978, 1.330274429)\n",
    "    L = abs(X)\n",
    "\n",
    "    K = 1.0 / (1.0 + 0.2316419 * L)\n",
    "\n",
    "    w = 1.0 - 1.0 / sqrt(2*pi)*exp(-L*L/2.) * (a1*K + a2*K*K + a3*pow(K,3) +\n",
    "\n",
    "    a4*pow(K,4) + a5*pow(K,5))\n",
    "    if X<0:\n",
    "\n",
    "        w = 1.0-w\n",
    "\n",
    "    return w\n",
    "# Black Sholes Function\n",
    "\n",
    "def BlackSholes(CallPutFlag,S,X,T,r,v):\n",
    "\n",
    "    d1 = (log(S/X)+(r+v*v/2.)*T)/(v*sqrt(T))\n",
    "\n",
    "    d2 = d1-v*sqrt(T)\n",
    "    if CallPutFlag=='c':\n",
    "\n",
    "        return S*CND(d1)-X*exp(-r*T)*CND(d2)\n",
    "\n",
    "    else:\n",
    "\n",
    "        return X*exp(-r*T)*CND(-d2)-S*CND(-d1)\n",
    "    \n",
    "call = BlackSholes('c',100,100,1,0.02,0.2)\n",
    "\n",
    "print (call)"
   ]
  },
  {
   "cell_type": "code",
   "execution_count": null,
   "metadata": {
    "collapsed": true
   },
   "outputs": [],
   "source": []
  }
 ],
 "metadata": {
  "kernelspec": {
   "display_name": "Python 3",
   "language": "python",
   "name": "python3"
  },
  "language_info": {
   "codemirror_mode": {
    "name": "ipython",
    "version": 3
   },
   "file_extension": ".py",
   "mimetype": "text/x-python",
   "name": "python",
   "nbconvert_exporter": "python",
   "pygments_lexer": "ipython3",
   "version": "3.6.0"
  }
 },
 "nbformat": 4,
 "nbformat_minor": 2
}
